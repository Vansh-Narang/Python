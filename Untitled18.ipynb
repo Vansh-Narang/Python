{
 "cells": [
  {
   "cell_type": "code",
   "execution_count": 21,
   "id": "66faac65",
   "metadata": {},
   "outputs": [
    {
     "data": {
      "text/plain": [
       "'bc'"
      ]
     },
     "execution_count": 21,
     "metadata": {},
     "output_type": "execute_result"
    }
   ],
   "source": [
    "#wap to remove vowles\n",
    "def fun(word):\n",
    "    str1=\"\"\n",
    "    for i in word:\n",
    "        if i!='a' and i!='e' and i!='i' and i!='o' and i!='u':\n",
    "            str1=str1+i\n",
    "    return str1\n",
    "            \n",
    "word=\"abc\"\n",
    "fun(word)"
   ]
  },
  {
   "cell_type": "code",
   "execution_count": 20,
   "id": "881a4357",
   "metadata": {},
   "outputs": [
    {
     "data": {
      "text/plain": [
       "'abc'"
      ]
     },
     "execution_count": 20,
     "metadata": {},
     "output_type": "execute_result"
    }
   ],
   "source": [
    "#wap to remove vowles\n",
    "def fun(word):\n",
    "    str1=\"\"\n",
    "    for i in word:\n",
    "        if i!='a' or i!='e' or i!='i' or i!='o' or i!='u':\n",
    "            str1=str1+i\n",
    "    return str1\n",
    "            \n",
    "word=\"abc\"\n",
    "fun(word)"
   ]
  },
  {
   "cell_type": "code",
   "execution_count": 26,
   "id": "cb5bf6f0",
   "metadata": {},
   "outputs": [
    {
     "data": {
      "text/plain": [
       "'vAnsh'"
      ]
     },
     "execution_count": 26,
     "metadata": {},
     "output_type": "execute_result"
    }
   ],
   "source": [
    "#wap to capitiliaze vowles\n",
    "def fun(word):\n",
    "    str1=\"\"\n",
    "    for i in word:\n",
    "        if i=='a' or i=='e' or i=='i' or i=='o' or i=='u':\n",
    "            str1=str1+i.upper()\n",
    "        else:\n",
    "            str1=str1+i    \n",
    "    return str1\n",
    "word=\"vansh\"\n",
    "fun(word)"
   ]
  },
  {
   "cell_type": "code",
   "execution_count": 28,
   "id": "24ba562a",
   "metadata": {},
   "outputs": [
    {
     "data": {
      "text/plain": [
       "'vanshvnsh'"
      ]
     },
     "execution_count": 28,
     "metadata": {},
     "output_type": "execute_result"
    }
   ],
   "source": [
    "#wap to capitiliaze vowles\n",
    "def fun(word):\n",
    "    for i in word:\n",
    "        if i=='a' or i=='e' or i=='i' or i=='o' or i=='u':\n",
    "            word.replace(i,i.upper())\n",
    "        else:\n",
    "            word=word+i\n",
    "    return word\n",
    "\n",
    "word=\"vansh\"\n",
    "fun(word)\n",
    "        "
   ]
  },
  {
   "cell_type": "code",
   "execution_count": 41,
   "id": "13aa51d9",
   "metadata": {},
   "outputs": [
    {
     "name": "stdout",
     "output_type": "stream",
     "text": [
      "['x', 'y', 'z']\n",
      "[10, 20, 30]\n"
     ]
    },
    {
     "data": {
      "text/plain": [
       "60"
      ]
     },
     "execution_count": 41,
     "metadata": {},
     "output_type": "execute_result"
    }
   ],
   "source": [
    "L1=list([10,20,30,40,50,60])\n",
    "L2=list([10,20,30])\n",
    "L5=list(\"xyz\")\n",
    "print(L5)\n",
    "print(L2)\n",
    "L2[2]\n",
    "L2[1:3]\n",
    "sum(L2)"
   ]
  },
  {
   "cell_type": "code",
   "execution_count": 49,
   "id": "2c746f76",
   "metadata": {},
   "outputs": [
    {
     "data": {
      "text/plain": [
       "6"
      ]
     },
     "execution_count": 49,
     "metadata": {},
     "output_type": "execute_result"
    }
   ],
   "source": [
    "L1=list([10,20,30,40,50,60])\n",
    "L1[-1:0:-2]\n",
    "max(L1)\n",
    "min(L1)\n",
    "sum(L1)\n",
    "len(L1)"
   ]
  },
  {
   "cell_type": "code",
   "execution_count": 50,
   "id": "00b9acd3",
   "metadata": {},
   "outputs": [
    {
     "data": {
      "text/plain": [
       "[1, 2, 3, 4, 5, 6]"
      ]
     },
     "execution_count": 50,
     "metadata": {},
     "output_type": "execute_result"
    }
   ],
   "source": [
    "a=[1,2,3]\n",
    "b=[4,5,6]\n",
    "a+b"
   ]
  },
  {
   "cell_type": "code",
   "execution_count": 51,
   "id": "390d2016",
   "metadata": {},
   "outputs": [
    {
     "data": {
      "text/plain": [
       "[1, 2, 3, 1, 2, 3]"
      ]
     },
     "execution_count": 51,
     "metadata": {},
     "output_type": "execute_result"
    }
   ],
   "source": [
    "2*a#repeat element"
   ]
  },
  {
   "cell_type": "code",
   "execution_count": 52,
   "id": "2db7a37c",
   "metadata": {},
   "outputs": [
    {
     "data": {
      "text/plain": [
       "True"
      ]
     },
     "execution_count": 52,
     "metadata": {},
     "output_type": "execute_result"
    }
   ],
   "source": [
    "4 in b"
   ]
  },
  {
   "cell_type": "code",
   "execution_count": 53,
   "id": "17ef131d",
   "metadata": {},
   "outputs": [
    {
     "data": {
      "text/plain": [
       "[1, 2]"
      ]
     },
     "execution_count": 53,
     "metadata": {},
     "output_type": "execute_result"
    }
   ],
   "source": [
    "del a[2]#delete at the index\n",
    "a#print"
   ]
  },
  {
   "cell_type": "code",
   "execution_count": 54,
   "id": "476ac7a0",
   "metadata": {},
   "outputs": [
    {
     "data": {
      "text/plain": [
       "[10, 20, 60]"
      ]
     },
     "execution_count": 54,
     "metadata": {},
     "output_type": "execute_result"
    }
   ],
   "source": [
    "a=[10,20,30,40,50,60]\n",
    "del a[2:5]\n",
    "a"
   ]
  },
  {
   "cell_type": "code",
   "execution_count": 57,
   "id": "6af94744",
   "metadata": {},
   "outputs": [
    {
     "data": {
      "text/plain": [
       "[]"
      ]
     },
     "execution_count": 57,
     "metadata": {},
     "output_type": "execute_result"
    }
   ],
   "source": [
    "del a[::]\n",
    "a"
   ]
  },
  {
   "cell_type": "code",
   "execution_count": 59,
   "id": "d0dc5da5",
   "metadata": {},
   "outputs": [
    {
     "name": "stdout",
     "output_type": "stream",
     "text": [
      "['abc', 'def']\n"
     ]
    }
   ],
   "source": [
    "a=[\"abc\"]\n",
    "b=[\"def\"]\n",
    "c=a+b\n",
    "print(c)"
   ]
  },
  {
   "cell_type": "code",
   "execution_count": 61,
   "id": "f6f927c8",
   "metadata": {},
   "outputs": [
    {
     "name": "stdout",
     "output_type": "stream",
     "text": [
      "['abc', 'def', 'abc', 'def']\n"
     ]
    }
   ],
   "source": [
    "d=2*c\n",
    "print(d)"
   ]
  },
  {
   "cell_type": "code",
   "execution_count": 62,
   "id": "c0620efd",
   "metadata": {},
   "outputs": [
    {
     "data": {
      "text/plain": [
       "[]"
      ]
     },
     "execution_count": 62,
     "metadata": {},
     "output_type": "execute_result"
    }
   ],
   "source": [
    "del d[::-1]\n",
    "d"
   ]
  },
  {
   "cell_type": "code",
   "execution_count": 63,
   "id": "bb2000aa",
   "metadata": {},
   "outputs": [
    {
     "data": {
      "text/plain": [
       "['vansh', 'arun', 'rishabh']"
      ]
     },
     "execution_count": 63,
     "metadata": {},
     "output_type": "execute_result"
    }
   ],
   "source": [
    "L1=[\"vansh\",\"arun\"]\n",
    "L2=[\"rishabh\"]\n",
    "L1+L2"
   ]
  },
  {
   "cell_type": "code",
   "execution_count": 64,
   "id": "1cd68b23",
   "metadata": {},
   "outputs": [
    {
     "data": {
      "text/plain": [
       "['vansh', 1, 2, 3]"
      ]
     },
     "execution_count": 64,
     "metadata": {},
     "output_type": "execute_result"
    }
   ],
   "source": [
    "k=[\"vansh\"]\n",
    "k1=[1,2,3]\n",
    "k+k1"
   ]
  },
  {
   "cell_type": "code",
   "execution_count": 67,
   "id": "c34af372",
   "metadata": {},
   "outputs": [
    {
     "name": "stdout",
     "output_type": "stream",
     "text": [
      "['vansh']\n"
     ]
    }
   ],
   "source": [
    "print(k)"
   ]
  },
  {
   "cell_type": "code",
   "execution_count": 71,
   "id": "51cbc438",
   "metadata": {},
   "outputs": [
    {
     "name": "stdout",
     "output_type": "stream",
     "text": [
      "[1, 2, 3, 4, 5]\n",
      "[1, 2, 3, 4, 5]\n",
      "[1, 2, 3, 4, 5]\n",
      "[1, 2, 3, 4, 5]\n",
      "[1, 2, 3, 4, 5]\n"
     ]
    }
   ],
   "source": [
    "l5=[1,2,3,4,5]\n",
    "for i in range(0,len(l5)):\n",
    "    print(l5)"
   ]
  },
  {
   "cell_type": "code",
   "execution_count": 77,
   "id": "f2e18c91",
   "metadata": {},
   "outputs": [
    {
     "data": {
      "text/plain": [
       "[6, 7, 8, 9, 10]"
      ]
     },
     "execution_count": 77,
     "metadata": {},
     "output_type": "execute_result"
    }
   ],
   "source": [
    "for i in range(0,5):\n",
    "    l5[i]=l5[i]+5\n",
    "l5"
   ]
  },
  {
   "cell_type": "code",
   "execution_count": 76,
   "id": "c7112622",
   "metadata": {},
   "outputs": [
    {
     "data": {
      "text/plain": [
       "[11, 12, 13, 14]"
      ]
     },
     "execution_count": 76,
     "metadata": {},
     "output_type": "execute_result"
    }
   ],
   "source": [
    "l=[1,2,3,4]#list comprehension\n",
    "l=[x+10 for x in l]\n",
    "l"
   ]
  },
  {
   "cell_type": "code",
   "execution_count": 95,
   "id": "34b06bed",
   "metadata": {},
   "outputs": [
    {
     "ename": "IndexError",
     "evalue": "list index out of range",
     "output_type": "error",
     "traceback": [
      "\u001b[1;31m---------------------------------------------------------------------------\u001b[0m",
      "\u001b[1;31mIndexError\u001b[0m                                Traceback (most recent call last)",
      "\u001b[1;32mC:\\Users\\VANSHN~1\\AppData\\Local\\Temp/ipykernel_1300/205644048.py\u001b[0m in \u001b[0;36m<module>\u001b[1;34m\u001b[0m\n\u001b[0;32m      1\u001b[0m \u001b[0ml\u001b[0m\u001b[1;33m=\u001b[0m\u001b[1;33m[\u001b[0m\u001b[1;36m2\u001b[0m\u001b[1;33m,\u001b[0m\u001b[1;36m3\u001b[0m\u001b[1;33m,\u001b[0m\u001b[1;36m4\u001b[0m\u001b[1;33m,\u001b[0m\u001b[1;36m5\u001b[0m\u001b[1;33m,\u001b[0m\u001b[1;36m6\u001b[0m\u001b[1;33m,\u001b[0m\u001b[1;36m7\u001b[0m\u001b[1;33m,\u001b[0m\u001b[1;36m8\u001b[0m\u001b[1;33m]\u001b[0m\u001b[1;33m\u001b[0m\u001b[1;33m\u001b[0m\u001b[0m\n\u001b[0;32m      2\u001b[0m \u001b[0mj\u001b[0m\u001b[1;33m=\u001b[0m\u001b[1;36m0\u001b[0m\u001b[1;33m\u001b[0m\u001b[1;33m\u001b[0m\u001b[0m\n\u001b[1;32m----> 3\u001b[1;33m \u001b[0ml\u001b[0m\u001b[1;33m=\u001b[0m\u001b[1;33m[\u001b[0m\u001b[0ml\u001b[0m\u001b[1;33m[\u001b[0m\u001b[0mj\u001b[0m\u001b[1;33m]\u001b[0m\u001b[1;33m%\u001b[0m\u001b[1;36m2\u001b[0m\u001b[1;33m==\u001b[0m\u001b[1;36m0\u001b[0m \u001b[1;32mfor\u001b[0m \u001b[0mj\u001b[0m \u001b[1;32min\u001b[0m \u001b[0ml\u001b[0m\u001b[1;33m]\u001b[0m\u001b[1;33m\u001b[0m\u001b[1;33m\u001b[0m\u001b[0m\n\u001b[0m\u001b[0;32m      4\u001b[0m \u001b[0ml\u001b[0m\u001b[1;33m\u001b[0m\u001b[1;33m\u001b[0m\u001b[0m\n",
      "\u001b[1;32mC:\\Users\\VANSHN~1\\AppData\\Local\\Temp/ipykernel_1300/205644048.py\u001b[0m in \u001b[0;36m<listcomp>\u001b[1;34m(.0)\u001b[0m\n\u001b[0;32m      1\u001b[0m \u001b[0ml\u001b[0m\u001b[1;33m=\u001b[0m\u001b[1;33m[\u001b[0m\u001b[1;36m2\u001b[0m\u001b[1;33m,\u001b[0m\u001b[1;36m3\u001b[0m\u001b[1;33m,\u001b[0m\u001b[1;36m4\u001b[0m\u001b[1;33m,\u001b[0m\u001b[1;36m5\u001b[0m\u001b[1;33m,\u001b[0m\u001b[1;36m6\u001b[0m\u001b[1;33m,\u001b[0m\u001b[1;36m7\u001b[0m\u001b[1;33m,\u001b[0m\u001b[1;36m8\u001b[0m\u001b[1;33m]\u001b[0m\u001b[1;33m\u001b[0m\u001b[1;33m\u001b[0m\u001b[0m\n\u001b[0;32m      2\u001b[0m \u001b[0mj\u001b[0m\u001b[1;33m=\u001b[0m\u001b[1;36m0\u001b[0m\u001b[1;33m\u001b[0m\u001b[1;33m\u001b[0m\u001b[0m\n\u001b[1;32m----> 3\u001b[1;33m \u001b[0ml\u001b[0m\u001b[1;33m=\u001b[0m\u001b[1;33m[\u001b[0m\u001b[0ml\u001b[0m\u001b[1;33m[\u001b[0m\u001b[0mj\u001b[0m\u001b[1;33m]\u001b[0m\u001b[1;33m%\u001b[0m\u001b[1;36m2\u001b[0m\u001b[1;33m==\u001b[0m\u001b[1;36m0\u001b[0m \u001b[1;32mfor\u001b[0m \u001b[0mj\u001b[0m \u001b[1;32min\u001b[0m \u001b[0ml\u001b[0m\u001b[1;33m]\u001b[0m\u001b[1;33m\u001b[0m\u001b[1;33m\u001b[0m\u001b[0m\n\u001b[0m\u001b[0;32m      4\u001b[0m \u001b[0ml\u001b[0m\u001b[1;33m\u001b[0m\u001b[1;33m\u001b[0m\u001b[0m\n",
      "\u001b[1;31mIndexError\u001b[0m: list index out of range"
     ]
    }
   ],
   "source": []
  },
  {
   "cell_type": "code",
   "execution_count": 96,
   "id": "ac672d77",
   "metadata": {},
   "outputs": [
    {
     "data": {
      "text/plain": [
       "0"
      ]
     },
     "execution_count": 96,
     "metadata": {},
     "output_type": "execute_result"
    }
   ],
   "source": [
    "l=[2,3,4,5,6,7,8]\n",
    "l[0]%2"
   ]
  },
  {
   "cell_type": "code",
   "execution_count": 102,
   "id": "d7eee680",
   "metadata": {},
   "outputs": [
    {
     "name": "stdout",
     "output_type": "stream",
     "text": [
      "2\n",
      "4\n",
      "6\n"
     ]
    }
   ],
   "source": [
    "#wap to print even elements in list\n",
    "l=[2,4,6,7] \n",
    "l=[print(x) for x in l if x%2==0]"
   ]
  },
  {
   "cell_type": "code",
   "execution_count": 101,
   "id": "03c0da70",
   "metadata": {
    "scrolled": true
   },
   "outputs": [
    {
     "ename": "TypeError",
     "evalue": "'type' object is not iterable",
     "output_type": "error",
     "traceback": [
      "\u001b[1;31m---------------------------------------------------------------------------\u001b[0m",
      "\u001b[1;31mTypeError\u001b[0m                                 Traceback (most recent call last)",
      "\u001b[1;32mC:\\Users\\VANSHN~1\\AppData\\Local\\Temp/ipykernel_1300/2909567429.py\u001b[0m in \u001b[0;36m<module>\u001b[1;34m\u001b[0m\n\u001b[0;32m      1\u001b[0m \u001b[0ml\u001b[0m\u001b[1;33m=\u001b[0m\u001b[1;33m[\u001b[0m\u001b[1;36m10\u001b[0m\u001b[1;33m,\u001b[0m\u001b[1;36m50\u001b[0m\u001b[1;33m,\u001b[0m\u001b[1;36m40\u001b[0m\u001b[1;33m,\u001b[0m\u001b[1;36m38\u001b[0m\u001b[1;33m,\u001b[0m\u001b[1;36m36\u001b[0m\u001b[1;33m]\u001b[0m\u001b[1;33m\u001b[0m\u001b[1;33m\u001b[0m\u001b[0m\n\u001b[1;32m----> 2\u001b[1;33m \u001b[0ml\u001b[0m\u001b[1;33m=\u001b[0m\u001b[1;33m[\u001b[0m\u001b[1;36m0.5\u001b[0m\u001b[1;33m^\u001b[0m\u001b[1;33m(\u001b[0m\u001b[0mi\u001b[0m\u001b[1;33m-\u001b[0m\u001b[1;36m32\u001b[0m\u001b[1;33m)\u001b[0m \u001b[1;32mfor\u001b[0m \u001b[0mi\u001b[0m \u001b[1;32min\u001b[0m \u001b[0mrange\u001b[0m\u001b[1;33m]\u001b[0m\u001b[1;33m\u001b[0m\u001b[1;33m\u001b[0m\u001b[0m\n\u001b[0m\u001b[0;32m      3\u001b[0m \u001b[0ml\u001b[0m\u001b[1;33m\u001b[0m\u001b[1;33m\u001b[0m\u001b[0m\n",
      "\u001b[1;31mTypeError\u001b[0m: 'type' object is not iterable"
     ]
    }
   ],
   "source": []
  },
  {
   "cell_type": "code",
   "execution_count": 115,
   "id": "8cf85972",
   "metadata": {},
   "outputs": [
    {
     "name": "stdout",
     "output_type": "stream",
     "text": [
      "[1, 2, 3, 4, 5]\n"
     ]
    }
   ],
   "source": [
    "#consider a list of diiferent elements .create another list which will take only list of integer elemets present in list\n",
    "l=[\"v\",1,2,3,4,5]\n",
    "l1=[y for y in l if type(y)==int]\n",
    "print(l1)"
   ]
  },
  {
   "cell_type": "code",
   "execution_count": 117,
   "id": "7961fde8",
   "metadata": {},
   "outputs": [
    {
     "data": {
      "text/plain": [
       "[1, 23, 3]"
      ]
     },
     "execution_count": 117,
     "metadata": {},
     "output_type": "execute_result"
    }
   ],
   "source": [
    "list=[1,23,3]#copy function\n",
    "list1=list.copy()\n",
    "list1"
   ]
  },
  {
   "cell_type": "code",
   "execution_count": 118,
   "id": "f7ed75c3",
   "metadata": {},
   "outputs": [
    {
     "data": {
      "text/plain": [
       "[1, 23, 3]"
      ]
     },
     "execution_count": 118,
     "metadata": {},
     "output_type": "execute_result"
    }
   ],
   "source": [
    "list=[1,23,3]\n",
    "list1=list[:]\n",
    "list1"
   ]
  },
  {
   "cell_type": "code",
   "execution_count": 123,
   "id": "821d5878",
   "metadata": {},
   "outputs": [
    {
     "data": {
      "text/plain": [
       "[2, 54, 5]"
      ]
     },
     "execution_count": 123,
     "metadata": {},
     "output_type": "execute_result"
    }
   ],
   "source": [
    "list=[1,23,3]\n",
    "list1=[2,54,5]\n",
    "list.append(list1)\n",
    "list[3]"
   ]
  },
  {
   "cell_type": "code",
   "execution_count": 121,
   "id": "8223d3ae",
   "metadata": {},
   "outputs": [
    {
     "data": {
      "text/plain": [
       "[1, 23, 3, 2, 54, 5]"
      ]
     },
     "execution_count": 121,
     "metadata": {},
     "output_type": "execute_result"
    }
   ],
   "source": [
    "list=[1,23,3]\n",
    "list1=[2,54,5]\n",
    "list.extend(list1)\n",
    "list"
   ]
  },
  {
   "cell_type": "code",
   "execution_count": 124,
   "id": "d636aec8",
   "metadata": {},
   "outputs": [
    {
     "data": {
      "text/plain": [
       "2"
      ]
     },
     "execution_count": 124,
     "metadata": {},
     "output_type": "execute_result"
    }
   ],
   "source": [
    "list=[10,20,30]\n",
    "list.index(30)"
   ]
  },
  {
   "cell_type": "code",
   "execution_count": 127,
   "id": "dc2e42d6",
   "metadata": {},
   "outputs": [
    {
     "data": {
      "text/plain": [
       "[10, 20, 30, 50, 50, 50]"
      ]
     },
     "execution_count": 127,
     "metadata": {},
     "output_type": "execute_result"
    }
   ],
   "source": [
    "list.insert(3,50)\n",
    "list"
   ]
  },
  {
   "cell_type": "code",
   "execution_count": 134,
   "id": "7496e2e4",
   "metadata": {},
   "outputs": [
    {
     "data": {
      "text/plain": [
       "60"
      ]
     },
     "execution_count": 134,
     "metadata": {},
     "output_type": "execute_result"
    }
   ],
   "source": [
    "list=[10,20,30,50,60]\n",
    "list.pop(4)#if index then remove the desired index and not then the last element\n"
   ]
  },
  {
   "cell_type": "code",
   "execution_count": 137,
   "id": "92db7c97",
   "metadata": {},
   "outputs": [
    {
     "data": {
      "text/plain": [
       "[20, 30, 50, 60]"
      ]
     },
     "execution_count": 137,
     "metadata": {},
     "output_type": "execute_result"
    }
   ],
   "source": [
    "list=[10,20,30,50,60]\n",
    "list.remove(10)\n",
    "list"
   ]
  },
  {
   "cell_type": "code",
   "execution_count": 138,
   "id": "e7b272ed",
   "metadata": {},
   "outputs": [
    {
     "data": {
      "text/plain": [
       "'a'"
      ]
     },
     "execution_count": 138,
     "metadata": {},
     "output_type": "execute_result"
    }
   ],
   "source": [
    "list=[10,20,30,50,'a']\n",
    "list.pop()##remove the value at index\n",
    "list.remove()#remove the value"
   ]
  },
  {
   "cell_type": "code",
   "execution_count": 139,
   "id": "69be65a4",
   "metadata": {},
   "outputs": [
    {
     "data": {
      "text/plain": [
       "['a', 50, 30, 20, 10]"
      ]
     },
     "execution_count": 139,
     "metadata": {},
     "output_type": "execute_result"
    }
   ],
   "source": [
    "list=[10,20,30,50,'a']\n",
    "list.reverse()\n",
    "list"
   ]
  },
  {
   "cell_type": "code",
   "execution_count": 141,
   "id": "092e481b",
   "metadata": {},
   "outputs": [
    {
     "data": {
      "text/plain": [
       "[1, 10, 20, 30, 50]"
      ]
     },
     "execution_count": 141,
     "metadata": {},
     "output_type": "execute_result"
    }
   ],
   "source": [
    "list=[10,20,30,50,1]\n",
    "list.sort()\n",
    "list"
   ]
  },
  {
   "cell_type": "raw",
   "id": "a4d1e05d",
   "metadata": {},
   "source": []
  },
  {
   "cell_type": "code",
   "execution_count": 143,
   "id": "c4c0a82d",
   "metadata": {},
   "outputs": [
    {
     "data": {
      "text/plain": [
       "['red', 3, 'g', 'r', 'e', 'e', 'n']"
      ]
     },
     "execution_count": 143,
     "metadata": {},
     "output_type": "execute_result"
    }
   ],
   "source": [
    "lst=['red',3]\n",
    "lst.extend('green')\n",
    "lst"
   ]
  },
  {
   "cell_type": "code",
   "execution_count": 149,
   "id": "e2b38f1e",
   "metadata": {},
   "outputs": [
    {
     "data": {
      "text/plain": [
       "['I', 'AM', 'VANSH']"
      ]
     },
     "execution_count": 149,
     "metadata": {},
     "output_type": "execute_result"
    }
   ],
   "source": [
    "a=\"I*AM*VANSH\"\n",
    "b=a.split('*')#split on basis of asterik\n",
    "b"
   ]
  },
  {
   "cell_type": "code",
   "execution_count": 150,
   "id": "5da01a98",
   "metadata": {},
   "outputs": [],
   "source": [
    "#wap to create a list of 5 elements and pass this list to function and  compute avg of 5 elements\n",
    "#wap a function that accepts poitive integer k and return a list that contains five muiltiples of k\n",
    "#wap to return prime no's from a list"
   ]
  },
  {
   "cell_type": "code",
   "execution_count": 13,
   "id": "1d7bae08",
   "metadata": {
    "scrolled": true
   },
   "outputs": [
    {
     "ename": "TypeError",
     "evalue": "'types.GenericAlias' object is not iterable",
     "output_type": "error",
     "traceback": [
      "\u001b[1;31m---------------------------------------------------------------------------\u001b[0m",
      "\u001b[1;31mTypeError\u001b[0m                                 Traceback (most recent call last)",
      "\u001b[1;32mC:\\Users\\VANSHN~1\\AppData\\Local\\Temp/ipykernel_544/3420089701.py\u001b[0m in \u001b[0;36m<module>\u001b[1;34m\u001b[0m\n\u001b[0;32m      4\u001b[0m     \u001b[0mprint\u001b[0m\u001b[1;33m(\u001b[0m\u001b[0mavg\u001b[0m\u001b[1;33m)\u001b[0m\u001b[1;33m\u001b[0m\u001b[1;33m\u001b[0m\u001b[0m\n\u001b[0;32m      5\u001b[0m \u001b[0ml1\u001b[0m\u001b[1;33m=\u001b[0m\u001b[0mlist\u001b[0m\u001b[1;33m[\u001b[0m\u001b[1;36m1\u001b[0m\u001b[1;33m,\u001b[0m\u001b[1;36m2\u001b[0m\u001b[1;33m,\u001b[0m\u001b[1;36m3\u001b[0m\u001b[1;33m,\u001b[0m\u001b[1;36m4\u001b[0m\u001b[1;33m,\u001b[0m\u001b[1;36m5\u001b[0m\u001b[1;33m]\u001b[0m\u001b[1;33m\u001b[0m\u001b[1;33m\u001b[0m\u001b[0m\n\u001b[1;32m----> 6\u001b[1;33m \u001b[0mfun\u001b[0m\u001b[1;33m(\u001b[0m\u001b[0ml1\u001b[0m\u001b[1;33m)\u001b[0m\u001b[1;33m\u001b[0m\u001b[1;33m\u001b[0m\u001b[0m\n\u001b[0m",
      "\u001b[1;32mC:\\Users\\VANSHN~1\\AppData\\Local\\Temp/ipykernel_544/3420089701.py\u001b[0m in \u001b[0;36mfun\u001b[1;34m(l1)\u001b[0m\n\u001b[0;32m      1\u001b[0m \u001b[1;32mdef\u001b[0m \u001b[0mfun\u001b[0m\u001b[1;33m(\u001b[0m\u001b[0ml1\u001b[0m\u001b[1;33m)\u001b[0m\u001b[1;33m:\u001b[0m\u001b[1;33m\u001b[0m\u001b[1;33m\u001b[0m\u001b[0m\n\u001b[0;32m      2\u001b[0m     \u001b[0mavg\u001b[0m\u001b[1;33m=\u001b[0m\u001b[1;36m0\u001b[0m\u001b[1;33m\u001b[0m\u001b[1;33m\u001b[0m\u001b[0m\n\u001b[1;32m----> 3\u001b[1;33m     \u001b[0ml1\u001b[0m\u001b[1;33m=\u001b[0m\u001b[1;33m[\u001b[0m\u001b[0mavg\u001b[0m\u001b[1;33m+\u001b[0m\u001b[1;36m1\u001b[0m \u001b[1;32mfor\u001b[0m \u001b[0mx\u001b[0m \u001b[1;32min\u001b[0m \u001b[0ml1\u001b[0m\u001b[1;33m]\u001b[0m\u001b[1;33m\u001b[0m\u001b[1;33m\u001b[0m\u001b[0m\n\u001b[0m\u001b[0;32m      4\u001b[0m     \u001b[0mprint\u001b[0m\u001b[1;33m(\u001b[0m\u001b[0mavg\u001b[0m\u001b[1;33m)\u001b[0m\u001b[1;33m\u001b[0m\u001b[1;33m\u001b[0m\u001b[0m\n\u001b[0;32m      5\u001b[0m \u001b[0ml1\u001b[0m\u001b[1;33m=\u001b[0m\u001b[0mlist\u001b[0m\u001b[1;33m[\u001b[0m\u001b[1;36m1\u001b[0m\u001b[1;33m,\u001b[0m\u001b[1;36m2\u001b[0m\u001b[1;33m,\u001b[0m\u001b[1;36m3\u001b[0m\u001b[1;33m,\u001b[0m\u001b[1;36m4\u001b[0m\u001b[1;33m,\u001b[0m\u001b[1;36m5\u001b[0m\u001b[1;33m]\u001b[0m\u001b[1;33m\u001b[0m\u001b[1;33m\u001b[0m\u001b[0m\n",
      "\u001b[1;31mTypeError\u001b[0m: 'types.GenericAlias' object is not iterable"
     ]
    }
   ],
   "source": [
    "def fun(l1):\n",
    "    avg=0\n",
    "    l1=[avg+1 for x in l1]\n",
    "    print(avg)\n",
    "l1=list[1,2,3,4,5]\n",
    "fun(l1)"
   ]
  },
  {
   "cell_type": "code",
   "execution_count": 28,
   "id": "1f7ab122",
   "metadata": {},
   "outputs": [
    {
     "name": "stdout",
     "output_type": "stream",
     "text": [
      "16\n"
     ]
    }
   ],
   "source": [
    "#wap to create a list of 5 elements and pass this list to function and  compute avg of 5 elements\n",
    "def fun(l1):\n",
    "    avg=0\n",
    "    for x in l1:\n",
    "         avg=avg+x\n",
    "    print(avg)\n",
    "l1=[1,2,3,4,6]\n",
    "fun(l1)"
   ]
  },
  {
   "cell_type": "code",
   "execution_count": 42,
   "id": "cc3d9104",
   "metadata": {},
   "outputs": [
    {
     "name": "stdout",
     "output_type": "stream",
     "text": [
      "enter the number you want to check for mulitiples5\n",
      "5\n",
      "10\n",
      "15\n",
      "20\n",
      "25\n"
     ]
    }
   ],
   "source": [
    "#wap a function that accepts poitive integer k and return a list that contains five muiltiples of k\n",
    "def fun(k):\n",
    "    m=k\n",
    "    n=1\n",
    "    for i in range(1,6):\n",
    "        k=k*n\n",
    "        print(k)\n",
    "        n=n+1\n",
    "        k=m\n",
    "        \n",
    "    \n",
    "    \n",
    "k=eval(input('enter the number you want to check for mulitiples'))   \n",
    "fun(k)"
   ]
  },
  {
   "cell_type": "code",
   "execution_count": null,
   "id": "ba2a7aad",
   "metadata": {},
   "outputs": [],
   "source": [
    "#wap to return prime no's from a list\n",
    "def fun(l1):\n",
    "    k=5//2\n",
    "    for i in range(2,k):\n",
    "        if \n",
    "            \n",
    "    \n",
    "    \n",
    "    \n",
    "    \n",
    "    \n",
    "    \n",
    "l1=[1,2,3,4,5]\n",
    "fun(l1)"
   ]
  },
  {
   "cell_type": "code",
   "execution_count": null,
   "id": "5da419e6",
   "metadata": {},
   "outputs": [],
   "source": []
  }
 ],
 "metadata": {
  "kernelspec": {
   "display_name": "Python 3 (ipykernel)",
   "language": "python",
   "name": "python3"
  },
  "language_info": {
   "codemirror_mode": {
    "name": "ipython",
    "version": 3
   },
   "file_extension": ".py",
   "mimetype": "text/x-python",
   "name": "python",
   "nbconvert_exporter": "python",
   "pygments_lexer": "ipython3",
   "version": "3.9.7"
  }
 },
 "nbformat": 4,
 "nbformat_minor": 5
}
