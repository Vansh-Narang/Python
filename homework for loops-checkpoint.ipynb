{
 "cells": [
  {
   "cell_type": "code",
   "execution_count": 2,
   "id": "04f44b39",
   "metadata": {},
   "outputs": [
    {
     "name": "stdout",
     "output_type": "stream",
     "text": [
      "ENTER THE NUMBER TILL U WANT TO FIND THE SERIES\n",
      "5\n",
      "0\n",
      "1\n",
      "1\n",
      "2\n",
      "3\n",
      "5\n",
      "8\n"
     ]
    }
   ],
   "source": [
    "print('ENTER THE NUMBER TILL U WANT TO FIND THE SERIES')\n",
    "n=eval(input())\n",
    "a=0\n",
    "b=1\n",
    "print(a)\n",
    "print(b)\n",
    "for i in range(0,n,1):\n",
    "    c=a+b\n",
    "    a=b\n",
    "    b=c\n",
    "    print(c)"
   ]
  },
  {
   "cell_type": "code",
   "execution_count": 7,
   "id": "aaf66319",
   "metadata": {},
   "outputs": [
    {
     "name": "stdout",
     "output_type": "stream",
     "text": [
      "1 2 3 4 5 6 7 8 9 10 2 4 6 8 10 12 14 16 18 20 3 6 9 12 15 18 21 24 27 30 4 8 12 16 20 24 28 32 36 40 5 10 15 20 25 30 35 40 45 50 "
     ]
    }
   ],
   "source": [
    "#wap to print tables\n",
    "for i in range(1,6,1):\n",
    "    for j in range(1,11,1):\n",
    "        print(i*j,end=\" \")\n",
    "    \n"
   ]
  },
  {
   "cell_type": "code",
   "execution_count": 28,
   "id": "71df42f3",
   "metadata": {},
   "outputs": [
    {
     "name": "stdout",
     "output_type": "stream",
     "text": [
      "not prime\n"
     ]
    }
   ],
   "source": [
    "#wap to check number is prime or not\n",
    "n=14\n",
    "for i in range(2,n//2,1):\n",
    "    if(n%i)==0:\n",
    "        print('not prime')\n",
    "        break\n",
    "else:\n",
    "        print('prime')\n",
    "    "
   ]
  },
  {
   "cell_type": "code",
   "execution_count": 29,
   "id": "0e76f91d",
   "metadata": {},
   "outputs": [
    {
     "name": "stdout",
     "output_type": "stream",
     "text": [
      "720\n"
     ]
    }
   ],
   "source": [
    "#wap to print factorial using while loop\n",
    "n=6\n",
    "fact=1\n",
    "while n>0:\n",
    "    fact=fact*n\n",
    "    n=n-1\n",
    "print(fact)"
   ]
  },
  {
   "cell_type": "code",
   "execution_count": null,
   "id": "7670ca47",
   "metadata": {},
   "outputs": [],
   "source": [
    "#armstrong\n",
    "n=eval(input())\n",
    "s=0\n",
    "temp=n\n",
    "while n>0:\n",
    "    r=n%10\n",
    "    s=s+(r*r*r)\n",
    "    n=n//10\n",
    "if temp==s:\n",
    "    print('armstrong')\n",
    "else:\n",
    "    print('not armstrong')\n"
   ]
  },
  {
   "cell_type": "code",
   "execution_count": null,
   "id": "1d7f58a6",
   "metadata": {},
   "outputs": [],
   "source": [
    "#wap to print sum of numbers are divisible by 5\n",
    "i=1\n",
    "sum=0\n",
    "while i<20:\n",
    "    if (i%5)==0:\n",
    "        sum=sum+i\n",
    "        print(sum)"
   ]
  },
  {
   "cell_type": "code",
   "execution_count": null,
   "id": "a1e5296c",
   "metadata": {},
   "outputs": [],
   "source": []
  }
 ],
 "metadata": {
  "kernelspec": {
   "display_name": "Python 3 (ipykernel)",
   "language": "python",
   "name": "python3"
  },
  "language_info": {
   "codemirror_mode": {
    "name": "ipython",
    "version": 3
   },
   "file_extension": ".py",
   "mimetype": "text/x-python",
   "name": "python",
   "nbconvert_exporter": "python",
   "pygments_lexer": "ipython3",
   "version": "3.9.7"
  }
 },
 "nbformat": 4,
 "nbformat_minor": 5
}
