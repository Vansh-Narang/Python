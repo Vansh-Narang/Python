{
 "cells": [
  {
   "cell_type": "code",
   "execution_count": 2,
   "id": "4980b43d",
   "metadata": {},
   "outputs": [
    {
     "data": {
      "text/plain": [
       "5"
      ]
     },
     "execution_count": 2,
     "metadata": {},
     "output_type": "execute_result"
    }
   ],
   "source": [
    "s=\"babbbbaavan\"\n",
    "s.count('b')"
   ]
  },
  {
   "cell_type": "code",
   "execution_count": 8,
   "id": "d78fb725",
   "metadata": {},
   "outputs": [
    {
     "name": "stdout",
     "output_type": "stream",
     "text": [
      "enter the string:babbbbaavan\n"
     ]
    },
    {
     "data": {
      "text/plain": [
       "5"
      ]
     },
     "execution_count": 8,
     "metadata": {},
     "output_type": "execute_result"
    }
   ],
   "source": [
    "#wap to count no of letter b in a string\n",
    "def fun(s):\n",
    "    count=0\n",
    "    for i in range(0,len(s)):\n",
    "        if s[i]=='b':\n",
    "            count=count+1\n",
    "    return count\n",
    "    \n",
    "z=input(\"enter the string:\")\n",
    "fun(z)"
   ]
  },
  {
   "cell_type": "code",
   "execution_count": 12,
   "id": "9561d2fa",
   "metadata": {},
   "outputs": [
    {
     "data": {
      "text/plain": [
       "'IIT BOMBAY'"
      ]
     },
     "execution_count": 12,
     "metadata": {},
     "output_type": "execute_result"
    }
   ],
   "source": [
    "s=\"IIT BOMBAY\"\n",
    "s[0:len(s)]"
   ]
  },
  {
   "cell_type": "code",
   "execution_count": 13,
   "id": "e6e57fd3",
   "metadata": {},
   "outputs": [
    {
     "data": {
      "text/plain": [
       "'YABMOB TII'"
      ]
     },
     "execution_count": 13,
     "metadata": {},
     "output_type": "execute_result"
    }
   ],
   "source": [
    "s=\"IIT BOMBAY\"\n",
    "s[::-1]"
   ]
  },
  {
   "cell_type": "code",
   "execution_count": 29,
   "id": "c87548d8",
   "metadata": {},
   "outputs": [
    {
     "name": "stdout",
     "output_type": "stream",
     "text": [
      "mom\n",
      "mom\n",
      "true\n",
      "false\n",
      "true\n",
      "false\n",
      "true\n",
      "false\n",
      "true\n",
      "false\n",
      "true\n",
      "false\n"
     ]
    }
   ],
   "source": [
    "flag=\"false\"\n",
    "def fun(s,s1):\n",
    "    c=s[0:len(s)]\n",
    "   # print(c)\n",
    "    c1=s[::-1]\n",
    "   # print(c1)\n",
    "\n",
    "    for i in range(0,len(c)):\n",
    "        for j in range(0,len(c1)):\n",
    "            if c[i]!=c[j]:\n",
    "                flag='false'\n",
    "            else:\n",
    "                flag='true'\n",
    "\n",
    "fun(s,s1)\n",
    "\n",
    "if flag=='false':\n",
    "    print(\"false\")\n",
    "else:\n",
    "    print(\"true\")\n",
    "\n",
    "s=\"mom\"\n",
    "s1=\"mom\"\n"
   ]
  },
  {
   "cell_type": "code",
   "execution_count": 30,
   "id": "5e5a2ba7",
   "metadata": {},
   "outputs": [
    {
     "name": "stdout",
     "output_type": "stream",
     "text": [
      "mom\n",
      "mom\n",
      "true\n"
     ]
    }
   ],
   "source": [
    "#wap to check two words are palindrome or not\n",
    "def fun(word1,word2):\n",
    "    if word1[::1]==word[::-1]:\n",
    "        print(\"true\")\n",
    "    else:\n",
    "        print(\"false\")\n",
    "        \n",
    "word1=input()\n",
    "word2=input()\n",
    "\n",
    "fun(word1,word2)"
   ]
  },
  {
   "cell_type": "code",
   "execution_count": null,
   "id": "8eae8aa8",
   "metadata": {},
   "outputs": [],
   "source": [
    "#wap to remove vowles\n",
    "def fun(word):\n",
    "    str1=\" \"\n",
    "    for i in word:\n",
    "        if i!='a' and i!='e' and i!='i' and i!='o' and i!='u':\n",
    "            str1=str1+i\n",
    "        return str1\n",
    "            \n",
    "word=input()\n",
    "fun(word)"
   ]
  },
  {
   "cell_type": "code",
   "execution_count": null,
   "id": "ac313328",
   "metadata": {},
   "outputs": [],
   "source": []
  },
  {
   "cell_type": "code",
   "execution_count": null,
   "id": "e57970eb",
   "metadata": {},
   "outputs": [],
   "source": []
  }
 ],
 "metadata": {
  "kernelspec": {
   "display_name": "Python 3 (ipykernel)",
   "language": "python",
   "name": "python3"
  },
  "language_info": {
   "codemirror_mode": {
    "name": "ipython",
    "version": 3
   },
   "file_extension": ".py",
   "mimetype": "text/x-python",
   "name": "python",
   "nbconvert_exporter": "python",
   "pygments_lexer": "ipython3",
   "version": "3.9.7"
  }
 },
 "nbformat": 4,
 "nbformat_minor": 5
}
